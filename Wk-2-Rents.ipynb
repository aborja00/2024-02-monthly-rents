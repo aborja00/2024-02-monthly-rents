{
 "cells": [
  {
   "cell_type": "code",
   "execution_count": 1,
   "id": "6d3660d4",
   "metadata": {},
   "outputs": [
    {
     "data": {
      "text/plain": [
       "71200.77777777778"
      ]
     },
     "execution_count": 1,
     "metadata": {},
     "output_type": "execute_result"
    }
   ],
   "source": [
    "700/900 + 1_200 + 700 *100"
   ]
  },
  {
   "cell_type": "code",
   "execution_count": 2,
   "id": "302e0fc6",
   "metadata": {},
   "outputs": [
    {
     "data": {
      "text/plain": [
       "25.0"
      ]
     },
     "execution_count": 2,
     "metadata": {},
     "output_type": "execute_result"
    }
   ],
   "source": [
    "700/ (900 + 1200 + 700) * 100 "
   ]
  },
  {
   "cell_type": "code",
   "execution_count": 3,
   "id": "bcf1dcbd",
   "metadata": {},
   "outputs": [],
   "source": [
    "alfred_monthly_23 = 900 \n",
    "fatima_monthly_23 = 1_200 \n",
    "trina_monthly_23 = 700"
   ]
  },
  {
   "cell_type": "code",
   "execution_count": 4,
   "id": "369b5309",
   "metadata": {},
   "outputs": [],
   "source": [
    "alfred_m, fatima_m, trina_m = 900, 1_200, 700\n"
   ]
  },
  {
   "cell_type": "code",
   "execution_count": 9,
   "id": "b6906125",
   "metadata": {},
   "outputs": [
    {
     "data": {
      "text/plain": [
       "1200"
      ]
     },
     "execution_count": 9,
     "metadata": {},
     "output_type": "execute_result"
    }
   ],
   "source": [
    "alfred_m \n",
    "fatima_monthly_23 \n",
    "#trina_m"
   ]
  },
  {
   "cell_type": "code",
   "execution_count": 11,
   "id": "20fdf1d9",
   "metadata": {},
   "outputs": [
    {
     "data": {
      "text/plain": [
       "25.0"
      ]
     },
     "execution_count": 11,
     "metadata": {},
     "output_type": "execute_result"
    }
   ],
   "source": [
    "trina_monthly_23/ (alfred_monthly_23 + fatima_monthly_23 + trina_monthly_23) * 100\n"
   ]
  },
  {
   "cell_type": "code",
   "execution_count": 13,
   "id": "c4099c3a",
   "metadata": {},
   "outputs": [
    {
     "data": {
      "text/plain": [
       "25.0"
      ]
     },
     "execution_count": 13,
     "metadata": {},
     "output_type": "execute_result"
    }
   ],
   "source": [
    "trina_share_23 = trina_monthly_23/ (alfred_monthly_23 + fatima_monthly_23 + trina_monthly_23) * 100\n",
    "trina_share_23"
   ]
  },
  {
   "cell_type": "code",
   "execution_count": 14,
   "id": "76522233",
   "metadata": {},
   "outputs": [
    {
     "data": {
      "text/plain": [
       "25.0"
      ]
     },
     "execution_count": 14,
     "metadata": {},
     "output_type": "execute_result"
    }
   ],
   "source": [
    "# easier to read \n",
    "trina_share_23 = \\\n",
    "trina_monthly_23/ (alfred_monthly_23 +\\\n",
    "                   fatima_monthly_23 + \\\n",
    "                   trina_monthly_23) * 100\n",
    "trina_share_23"
   ]
  },
  {
   "cell_type": "code",
   "execution_count": 17,
   "id": "fa2d98cd",
   "metadata": {},
   "outputs": [
    {
     "data": {
      "text/plain": [
       "(25.0, 900, 1200)"
      ]
     },
     "execution_count": 17,
     "metadata": {},
     "output_type": "execute_result"
    }
   ],
   "source": [
    "trina_share_23, alfred_monthly_23, fatima_monthly_23"
   ]
  },
  {
   "cell_type": "code",
   "execution_count": 19,
   "id": "8a12e2e1",
   "metadata": {},
   "outputs": [
    {
     "name": "stdout",
     "output_type": "stream",
     "text": [
      "hello world\n"
     ]
    }
   ],
   "source": [
    "print(\"hello world\")"
   ]
  },
  {
   "cell_type": "code",
   "execution_count": 24,
   "id": "af671b06",
   "metadata": {},
   "outputs": [
    {
     "name": "stdout",
     "output_type": "stream",
     "text": [
      "900\n",
      "700\n",
      "1200 900\n"
     ]
    }
   ],
   "source": [
    "print (alfred_monthly_23)\n",
    "print (trina_m)\n",
    "print (fatima_m,alfred_m) "
   ]
  },
  {
   "cell_type": "code",
   "execution_count": 30,
   "id": "942d025e",
   "metadata": {},
   "outputs": [
    {
     "name": "stdout",
     "output_type": "stream",
     "text": [
      "Trina's rent: $700\n",
      "Trina pays 25.0 percent of the total rent\n"
     ]
    }
   ],
   "source": [
    "# Using f-string \n",
    "# print total all the monthly rents plus totals using f- strings \n",
    "print (f\"Trina's rent: ${trina_monthly_23}\")\n",
    "print (f\"Trina pays {trina_share_23} percent of the total rent\")"
   ]
  },
  {
   "cell_type": "code",
   "execution_count": 36,
   "id": "c2eab631",
   "metadata": {},
   "outputs": [
    {
     "name": "stdout",
     "output_type": "stream",
     "text": [
      "The total monthly rent is: $2,800 and Trina pays 25.0 percent of it.\n"
     ]
    }
   ],
   "source": [
    "# F-strin also do calculations\n",
    "print (f\"The total monthly rent is:\\\n",
    " ${alfred_monthly_23 + fatima_monthly_23 + trina_monthly_23:,}\\\n",
    " and Trina pays {trina_share_23} percent of it.\")"
   ]
  },
  {
   "cell_type": "code",
   "execution_count": null,
   "id": "2f98ae44",
   "metadata": {},
   "outputs": [],
   "source": []
  }
 ],
 "metadata": {
  "kernelspec": {
   "display_name": "Python 3 (ipykernel)",
   "language": "python",
   "name": "python3"
  },
  "language_info": {
   "codemirror_mode": {
    "name": "ipython",
    "version": 3
   },
   "file_extension": ".py",
   "mimetype": "text/x-python",
   "name": "python",
   "nbconvert_exporter": "python",
   "pygments_lexer": "ipython3",
   "version": "3.11.5"
  }
 },
 "nbformat": 4,
 "nbformat_minor": 5
}
